{
 "cells": [
  {
   "cell_type": "code",
   "execution_count": null,
   "metadata": {
    "collapsed": true
   },
   "outputs": [],
   "source": [
    "import nltk\n",
    "from nltk.corpus import brown, stopwords\n",
    "from nltk import RegexpTokenizer, FreqDist, ngrams\n",
    "import numpy as np\n",
    "import pandas as pd\n",
    "import re, pickle, random, math"
   ]
  },
  {
   "cell_type": "code",
   "execution_count": null,
   "metadata": {
    "collapsed": true
   },
   "outputs": [],
   "source": [
    "def make_words_grams():\n",
    "# print(list(brown.words()[:500]))\n",
    "    words = [w.lower() for w in brown.words()]\n",
    "    # words = [w for w in words if w not in stopwords.words('english')]\n",
    "    estopwords = set(stopwords.words('english'))\n",
    "    words = [w for w in words if w not in estopwords]\n",
    "    rem = re.compile(r'[a-z][a-z\\']*')\n",
    "    words = [w for w in words if rem.search(w)]\n",
    "    \n",
    "    freq_words = FreqDist(words).most_common(5000)\n",
    "    freq_words = set([w for (w,f) in freq_words])\n",
    "    words = [w for w in words if w in freq_words]\n",
    "    \n",
    "    grams = list(ngrams(words, 15))\n",
    "    pickle.dump(words, open(\"words.txt\", \"wb\"))\n",
    "    pickle.dump(grams, open(\"grams.txt\", \"wb\"))\n",
    "    return words, grams"
   ]
  },
  {
   "cell_type": "code",
   "execution_count": null,
   "metadata": {
    "collapsed": true
   },
   "outputs": [],
   "source": [
    "## load words and grams\n",
    "with open(\"words.txt\", \"rb\") as fp:\n",
    "    words = pickle.load(fp)\n",
    "with open(\"grams.txt\", \"rb\") as fp:\n",
    "    grams = pickle.load(fp)"
   ]
  },
  {
   "cell_type": "code",
   "execution_count": null,
   "metadata": {
    "collapsed": true
   },
   "outputs": [],
   "source": [
    "words, grams = make_words_grams()"
   ]
  },
  {
   "cell_type": "code",
   "execution_count": null,
   "metadata": {
    "collapsed": true
   },
   "outputs": [],
   "source": [
    "vocab = list(set(words))\n",
    "voc_len = len(vocab)\n",
    "matrix = pd.DataFrame(0, vocab, vocab, dtype=np.float32)\n",
    "# print(matrix)"
   ]
  },
  {
   "cell_type": "code",
   "execution_count": null,
   "metadata": {},
   "outputs": [],
   "source": [
    "print(voc_len, matrix.shape, len(grams))\n"
   ]
  },
  {
   "cell_type": "code",
   "execution_count": null,
   "metadata": {
    "collapsed": true
   },
   "outputs": [],
   "source": [
    "for g in grams:\n",
    "    mid_word = g[7]\n",
    "#     print(mid_word)\n",
    "    row = matrix.loc[mid_word]\n",
    "    row.at[g[0]]  += 1\n",
    "    row.at[g[1]]  += 1\n",
    "    row.at[g[2]]  += 1\n",
    "    row.at[g[3]]  += 1\n",
    "    row.at[g[4]]  += 1\n",
    "    row.at[g[5]]  += 1\n",
    "    row.at[g[6]]  += 1\n",
    "    row.at[g[8]]  += 1\n",
    "    row.at[g[9]]  += 1\n",
    "    row.at[g[10]] += 1\n",
    "    row.at[g[11]] += 1\n",
    "    row.at[g[12]] += 1\n",
    "    row.at[g[13]] += 1\n",
    "    row.at[g[14]] += 1\n",
    "\n",
    "#     for i in range(len(g)):\n",
    "#         if i == 7:\n",
    "#             continue\n",
    "#         row.at[g[i]] += 1\n",
    "#         print(i, g[i], row.at[g[i]])\n"
   ]
  },
  {
   "cell_type": "code",
   "execution_count": null,
   "metadata": {},
   "outputs": [],
   "source": [
    "xy = matrix.loc[\"play\"].iloc[matrix.loc[\"play\"].nonzero()]\n",
    "print(xy.sort_values(ascending=False)[:10])\n"
   ]
  },
  {
   "cell_type": "code",
   "execution_count": null,
   "metadata": {},
   "outputs": [],
   "source": [
    "matrix.shape"
   ]
  },
  {
   "cell_type": "code",
   "execution_count": null,
   "metadata": {
    "collapsed": true
   },
   "outputs": [],
   "source": []
  },
  {
   "cell_type": "code",
   "execution_count": null,
   "metadata": {
    "collapsed": true
   },
   "outputs": [],
   "source": [
    "matrix.to_hdf(\"matrix5000.hdf\",\"mat1\", mode='w')\n",
    "\n"
   ]
  },
  {
   "cell_type": "code",
   "execution_count": null,
   "metadata": {
    "collapsed": true
   },
   "outputs": [],
   "source": []
  },
  {
   "cell_type": "code",
   "execution_count": null,
   "metadata": {
    "collapsed": true
   },
   "outputs": [],
   "source": [
    "matrix = pd.read_hdf('matrix5000.hdf','mat1')"
   ]
  },
  {
   "cell_type": "code",
   "execution_count": null,
   "metadata": {
    "collapsed": true
   },
   "outputs": [],
   "source": [
    "cols = matrix.sum(axis=1)\n",
    "rows = matrix.sum(axis=0)"
   ]
  },
  {
   "cell_type": "code",
   "execution_count": null,
   "metadata": {
    "collapsed": true
   },
   "outputs": [],
   "source": [
    "# log_2 val / (row * col)\n",
    "for r in matrix.index:\n",
    "    row = matrix.loc[r]\n",
    "    for c in matrix.columns:\n",
    "        val = row.at[c]\n",
    "        if val <= 0: \n",
    "            row.at[c] = 0\n",
    "            continue\n",
    "            \n",
    "        ppmi = row.at[c] / (cols[c] * float(rows[r]))\n",
    "        ppmi = max(0, math.log2(ppmi))\n",
    "        row.at[c] = ppmi"
   ]
  },
  {
   "cell_type": "code",
   "execution_count": null,
   "metadata": {
    "collapsed": true
   },
   "outputs": [],
   "source": [
    "matrix.columns"
   ]
  },
  {
   "cell_type": "code",
   "execution_count": null,
   "metadata": {
    "collapsed": true
   },
   "outputs": [],
   "source": [
    "matrix.to_hdf(\"ppmi_matrix.hdf\",\"mat2\", mode='w')\n"
   ]
  }
 ],
 "metadata": {
  "kernelspec": {
   "display_name": "Python 3",
   "language": "python",
   "name": "python3"
  },
  "language_info": {
   "codemirror_mode": {
    "name": "ipython",
    "version": 3
   },
   "file_extension": ".py",
   "mimetype": "text/x-python",
   "name": "python",
   "nbconvert_exporter": "python",
   "pygments_lexer": "ipython3",
   "version": "3.6.1"
  }
 },
 "nbformat": 4,
 "nbformat_minor": 2
}
