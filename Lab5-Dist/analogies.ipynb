{
 "cells": [
  {
   "cell_type": "code",
   "execution_count": 39,
   "metadata": {
    "collapsed": true
   },
   "outputs": [],
   "source": [
    "import pickle, re, numpy as np, pandas as pd, math\n",
    "from pprint import pprint"
   ]
  },
  {
   "cell_type": "code",
   "execution_count": null,
   "metadata": {},
   "outputs": [],
   "source": [
    "def ppmi2svd(ppmi_file):\n",
    "    X = pd.read_hdf(ppmi_file, 'mat1')\n",
    "    \n",
    "    U, s , V = np.linalg.svd(X, full_matrices=False)\n",
    "    \n",
    "    U.to_hdf(\"svd5000.hdf\", 'mat1', mode='w')\n",
    "    return U\n",
    "\n",
    "U = ppmi2svd('logged5000.hdf')"
   ]
  },
  {
   "cell_type": "code",
   "execution_count": 2,
   "metadata": {
    "code_folding": []
   },
   "outputs": [],
   "source": [
    "def ppmi(mat_file):\n",
    "    matrix = pd.read_hdf(mat_file,'mat1')\n",
    "    \n",
    "    cols = matrix.sum(axis=1)\n",
    "    rows = matrix.sum(axis=0)\n",
    "    total = cols.sum()\n",
    "    print(cols.dtype)\n",
    "    print(len(matrix.index), \"total:\", int(total))\n",
    "\n",
    "    prod = np.multiply.outer(rows,cols) / total\n",
    "    prod[1,1] == (rows[1]*cols[1] / total)\n",
    "    \n",
    "    matrix = matrix.divide(prod)\n",
    "    matrix = matrix.apply(np.log2)\n",
    "    matrix[matrix < 0] = 0\n",
    "\n",
    "    matrix.to_hdf(\"logged20000.hdf\",\"mat1\", mode='w')\n",
    "\n",
    "#ppmi('smatrix.hdf')"
   ]
  },
  {
   "cell_type": "code",
   "execution_count": 28,
   "metadata": {
    "code_folding": [],
    "collapsed": true
   },
   "outputs": [],
   "source": [
    "ppmi_file = 'logged5000.hdf'\n",
    "matrix = pd.read_hdf(ppmi_file,'mat1')\n"
   ]
  },
  {
   "cell_type": "code",
   "execution_count": 53,
   "metadata": {},
   "outputs": [],
   "source": [
    "# fly(1b) is to plane(1a) as drive(2a) is to\n",
    "# ||wx − wdrive + wfly − wplane||2\n",
    "# ||wx + (− an2a + an1b − an1a)||2\n",
    "# ||wx + comb||2\n",
    "\n",
    "def vecThing(an1a, an1b, an2a):\n",
    "    v1a = matrix.loc[an1a].values\n",
    "    v1b = matrix.loc[an1b].values\n",
    "    v2a = matrix.loc[an2a].values\n",
    "    \n",
    "    comb = v1b - v1a - v2a\n",
    "#     print(\"v1a\", v1a)\n",
    "#     print()\n",
    "#     print(\"v1b\", v1b)    \n",
    "#     print()\n",
    "#     print(\"v2a\", v2a)\n",
    "#     print()\n",
    "#     print(\"comb\", comb)\n",
    "#     print()\n",
    "#     print(\"mat\", matrix.values)\n",
    "#     print()\n",
    "#     print(\"mat + comb\",matrix.values + comb)\n",
    "#     print()\n",
    "\n",
    "    dists = np.linalg.norm(matrix.values + comb, axis=1) ** 2\n",
    "    return dists\n",
    "    ## now find distance between comb and all words\n",
    "    \n",
    "    \n",
    "# an1 = 'fish'\n",
    "# an2 = 'water'\n",
    "# an3 = 'bird'\n",
    "\n",
    "\n",
    "\n",
    "an1a = 'night'\n",
    "an1b = 'dark'\n",
    "an2a = 'day'\n",
    "\n"
   ]
  },
  {
   "cell_type": "code",
   "execution_count": 54,
   "metadata": {},
   "outputs": [
    {
     "data": {
      "text/plain": [
       "1175.9678"
      ]
     },
     "execution_count": 54,
     "metadata": {},
     "output_type": "execute_result"
    }
   ],
   "source": [
    "# np.linalg.norm(np.arange(1, 4) - np.arange(0,3)) ** 2\n",
    "# np.arange(1, 4) - np.arange(0,3)\n",
    "matrix.iloc[2].sum()"
   ]
  },
  {
   "cell_type": "code",
   "execution_count": 55,
   "metadata": {},
   "outputs": [],
   "source": [
    "dists = vecThing(an1a, an1b, an2a)\n",
    "\n",
    "dists = pd.Series(dists, index=matrix.index).sort_values()"
   ]
  },
  {
   "cell_type": "code",
   "execution_count": 56,
   "metadata": {},
   "outputs": [
    {
     "name": "stdout",
     "output_type": "stream",
     "text": [
      "12110.2060546875 5375.03 17894.6\n"
     ]
    }
   ],
   "source": [
    "print(np.mean(dists),min(dists),max(dists))"
   ]
  },
  {
   "cell_type": "code",
   "execution_count": 57,
   "metadata": {},
   "outputs": [
    {
     "name": "stdout",
     "output_type": "stream",
     "text": [
      "11732.7\n",
      "night     5375.025879\n",
      "day       5458.750000\n",
      "last      8602.722656\n",
      "first     8614.389648\n",
      "time      8627.583008\n",
      "one       8683.048828\n",
      "would     8717.627930\n",
      "said      8825.863281\n",
      "could     8921.829102\n",
      "home      8932.769531\n",
      "two       9031.601562\n",
      "go        9049.530273\n",
      "new       9085.858398\n",
      "years     9116.557617\n",
      "mr.       9128.235352\n",
      "good      9160.878906\n",
      "little    9176.898438\n",
      "never     9201.965820\n",
      "made      9222.976562\n",
      "come      9255.637695\n",
      "dtype: float32\n"
     ]
    }
   ],
   "source": [
    "print(dists['light'])\n",
    "print(dists[:20])\n"
   ]
  },
  {
   "cell_type": "code",
   "execution_count": null,
   "metadata": {
    "collapsed": true
   },
   "outputs": [],
   "source": []
  }
 ],
 "metadata": {
  "kernelspec": {
   "display_name": "Python 3",
   "language": "python",
   "name": "python3"
  },
  "language_info": {
   "codemirror_mode": {
    "name": "ipython",
    "version": 3
   },
   "file_extension": ".py",
   "mimetype": "text/x-python",
   "name": "python",
   "nbconvert_exporter": "python",
   "pygments_lexer": "ipython3",
   "version": "3.6.1"
  }
 },
 "nbformat": 4,
 "nbformat_minor": 2
}
