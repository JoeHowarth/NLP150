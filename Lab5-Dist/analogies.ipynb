{
 "cells": [
  {
   "cell_type": "code",
   "execution_count": 1,
   "metadata": {
    "collapsed": true
   },
   "outputs": [],
   "source": [
    "import pickle, re, numpy as np, pandas as pd, math"
   ]
  },
  {
   "cell_type": "code",
   "execution_count": 2,
   "metadata": {},
   "outputs": [],
   "source": [
    "## matrix of counts NOT PPMI\n",
    "matrix = pd.read_hdf('smatrix.hdf','mat1')"
   ]
  },
  {
   "cell_type": "code",
   "execution_count": 3,
   "metadata": {},
   "outputs": [
    {
     "name": "stdout",
     "output_type": "stream",
     "text": [
      "float32\n",
      "20000\n"
     ]
    }
   ],
   "source": [
    "cols = matrix.sum(axis=1)\n",
    "rows = matrix.sum(axis=0)\n",
    "print(cols.dtype)\n",
    "print(len(matrix.index))"
   ]
  },
  {
   "cell_type": "code",
   "execution_count": 4,
   "metadata": {},
   "outputs": [],
   "source": [
    "# log_2 val / (row * col)\n",
    "def way1():\n",
    "    i = 0\n",
    "    for r in matrix.index[:20]:\n",
    "    #     row = matrix.loc[r]\n",
    "        print(i)\n",
    "        i += 1\n",
    "        for c in matrix.columns:\n",
    "            val = matrix.at[r,c]\n",
    "            if val == 0: \n",
    "                matrix.at[r,c] = 0\n",
    "#                 print(0)\n",
    "                continue\n",
    "#             print('not 0')\n",
    "            ppmi = val / (cols[c] * rows[r])\n",
    "            ppmi = max(0, math.log2(ppmi))\n",
    "            matrix.at[r,c] = ppmi"
   ]
  },
  {
   "cell_type": "code",
   "execution_count": 5,
   "metadata": {
    "code_folding": []
   },
   "outputs": [
    {
     "data": {
      "text/plain": [
       "1162.0"
      ]
     },
     "execution_count": 5,
     "metadata": {},
     "output_type": "execute_result"
    }
   ],
   "source": [
    "row = matrix.loc[\"governor\"]\n",
    "row.sum()"
   ]
  },
  {
   "cell_type": "code",
   "execution_count": 6,
   "metadata": {},
   "outputs": [
    {
     "name": "stdout",
     "output_type": "stream",
     "text": [
      "0\n",
      "1\n",
      "2\n",
      "3\n",
      "4\n",
      "5\n",
      "6\n",
      "7\n",
      "8\n",
      "9\n",
      "10\n",
      "11\n",
      "12\n",
      "13\n",
      "14\n",
      "15\n",
      "16\n",
      "17\n",
      "18\n",
      "19\n",
      "CPU times: user 10.7 s, sys: 20 ms, total: 10.7 s\n",
      "Wall time: 10.7 s\n"
     ]
    }
   ],
   "source": [
    "%time way1()\n",
    "# %time way2()"
   ]
  },
  {
   "cell_type": "code",
   "execution_count": 7,
   "metadata": {},
   "outputs": [
    {
     "data": {
      "text/plain": [
       "0.0"
      ]
     },
     "execution_count": 7,
     "metadata": {},
     "output_type": "execute_result"
    }
   ],
   "source": [
    "row = matrix.loc[\"governor\"]\n",
    "row.sum()"
   ]
  },
  {
   "cell_type": "code",
   "execution_count": null,
   "metadata": {
    "collapsed": true
   },
   "outputs": [],
   "source": [
    "# fly is to plane as drive is to\n",
    "# ||wx − wdrive + wfly − wplane||2\n",
    "# ||wx − an3 + an2 − an1||2\n",
    "def vecThing(an1, an2, an3):\n",
    "    v1 = matrix.loc[an1]\n",
    "    v2 = matrix.loc[an2]\n",
    "    v3 = matrix.loc[an3]\n",
    "    \n",
    "    comb = v3 + v2 - v1 \n",
    "    \n",
    "    ## now find distance between comb and all words\n",
    "    \n",
    "\n"
   ]
  },
  {
   "cell_type": "code",
   "execution_count": null,
   "metadata": {
    "collapsed": true
   },
   "outputs": [],
   "source": [
    "an1 = 'plane'\n",
    "an2 = 'fly'\n",
    "an3 = 'drive'\n"
   ]
  },
  {
   "cell_type": "code",
   "execution_count": null,
   "metadata": {
    "collapsed": true
   },
   "outputs": [],
   "source": [
    "matrix.shape"
   ]
  },
  {
   "cell_type": "code",
   "execution_count": null,
   "metadata": {
    "collapsed": true
   },
   "outputs": [],
   "source": [
    "small = matrix.astype(np.int16)"
   ]
  },
  {
   "cell_type": "code",
   "execution_count": null,
   "metadata": {
    "collapsed": true
   },
   "outputs": [],
   "source": [
    "with open(\"small_matrix.txt\", 'wb') as fp:\n",
    "    pickle.dump(small, fp)"
   ]
  }
 ],
 "metadata": {
  "kernelspec": {
   "display_name": "Python 3",
   "language": "python",
   "name": "python3"
  },
  "language_info": {
   "codemirror_mode": {
    "name": "ipython",
    "version": 3
   },
   "file_extension": ".py",
   "mimetype": "text/x-python",
   "name": "python",
   "nbconvert_exporter": "python",
   "pygments_lexer": "ipython3",
   "version": "3.6.1"
  }
 },
 "nbformat": 4,
 "nbformat_minor": 2
}
