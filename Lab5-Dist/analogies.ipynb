{
 "cells": [
  {
   "cell_type": "code",
   "execution_count": 2,
   "metadata": {
    "collapsed": true
   },
   "outputs": [],
   "source": [
    "import pickle, re, numpy as np, pandas as pd, math\n",
    "from pprint import pprint\n",
    "\n",
    "# mat_file = 'matrix5000.hdf'\n",
    "mat_file = 'smatrix.hdf'\n",
    "ppmi_file = 'ppmi20000.hdf'\n",
    "svd_file = 'svd20000.hdf'"
   ]
  },
  {
   "cell_type": "code",
   "execution_count": null,
   "metadata": {
    "code_folding": []
   },
   "outputs": [],
   "source": [
    "def ppmi(mat_file):\n",
    "    matrix = pd.read_hdf(mat_file,'mat1')\n",
    "    \n",
    "    cols = matrix.sum(axis=1)\n",
    "    rows = matrix.sum(axis=0)\n",
    "    total = cols.sum()\n",
    "    print(cols.dtype)\n",
    "    print(len(matrix.index), \"total:\", int(total))\n",
    "\n",
    "    prod = np.multiply.outer(rows,cols) / total\n",
    "    prod[1,1] == (rows[1]*cols[1] / total)\n",
    "    \n",
    "    matrix = matrix.divide(prod)\n",
    "    matrix = matrix.apply(np.log2)\n",
    "    matrix[matrix < 0] = 0\n",
    "\n",
    "    matrix.to_hdf(ppmi_file,\"mat1\", mode='w')\n",
    "ppmi(mat_file)"
   ]
  },
  {
   "cell_type": "code",
   "execution_count": null,
   "metadata": {},
   "outputs": [],
   "source": [
    "def ppmi2svd(file):\n",
    "    X = pd.read_hdf(file, 'mat1')\n",
    "    print(X.iloc[0].sum())\n",
    "    print(X.iloc[0])\n",
    "    print(file + \" read\")\n",
    "    \n",
    "    U, s , V = np.linalg.svd(X, full_matrices=False)\n",
    "    print(\"SVD done\")\n",
    "    \n",
    "    U = pd.DataFrame(U, index= X.index, columns=X.columns)\n",
    "    U.to_hdf(svd_file, 'mat1', mode='w')\n",
    "    \n",
    "    return U\n",
    "\n",
    "U = ppmi2svd(ppmi_file)\n",
    "\n"
   ]
  },
  {
   "cell_type": "code",
   "execution_count": null,
   "metadata": {},
   "outputs": [],
   "source": [
    "U"
   ]
  },
  {
   "cell_type": "code",
   "execution_count": null,
   "metadata": {
    "code_folding": []
   },
   "outputs": [],
   "source": [
    "\n",
    "matrix = pd.read_hdf(svd_file,'mat1')\n",
    "matrix = matrix.iloc[:,:500]"
   ]
  },
  {
   "cell_type": "code",
   "execution_count": 3,
   "metadata": {},
   "outputs": [],
   "source": [
    "matrix = pd.read_hdf(ppmi_file,'mat1')"
   ]
  },
  {
   "cell_type": "code",
   "execution_count": 7,
   "metadata": {
    "collapsed": true
   },
   "outputs": [],
   "source": [
    "# fly(1b) is to plane(1a) as drive(2b) is to\n",
    "# ||wx − wdrive + wfly − wplane||2\n",
    "# ||wx + (− an2a + an1b − an1a)||2\n",
    "# ||wx + comb||2\n",
    "\n",
    "def vecThing(an1a, an1b, an2b):\n",
    "    v1a = matrix.loc[an1a].values\n",
    "    v1b = matrix.loc[an1b].values\n",
    "    v2b = matrix.loc[an2b].values\n",
    "    \n",
    "    comb = v1b - v1a - v2b\n",
    "#     print(\"v1a\", v1a)\n",
    "#     print()\n",
    "#     print(\"v1b\", v1b)    \n",
    "#     print()\n",
    "#     print(\"v2a\", v2a)\n",
    "#     print()\n",
    "#     print(\"comb\", comb)\n",
    "#     print()\n",
    "#     print(\"mat\", matrix.values)\n",
    "#     print()\n",
    "#     print(\"mat + comb\",matrix.values + comb)\n",
    "#     print()\n",
    "#     print(np.linalg.norm(matrix.iloc[1].values + comb))\n",
    "    \n",
    "    dists = np.linalg.norm(matrix.values + comb, axis=1) ** 2\n",
    "    return dists"
   ]
  },
  {
   "cell_type": "code",
   "execution_count": 8,
   "metadata": {},
   "outputs": [
    {
     "data": {
      "text/plain": [
       "298.29593"
      ]
     },
     "execution_count": 8,
     "metadata": {},
     "output_type": "execute_result"
    }
   ],
   "source": [
    "# np.linalg.norm(np.arange(1, 4) - np.arange(0,3)) ** 2\n",
    "# np.arange(1, 4) - np.arange(0,3)\n",
    "matrix.iloc[2].sum()\n",
    "# matrix"
   ]
  },
  {
   "cell_type": "code",
   "execution_count": 12,
   "metadata": {},
   "outputs": [],
   "source": [
    "\n",
    "an1b = 'bird'\n",
    "an1a = 'sky'\n",
    "an2b = 'fish'\n",
    "\n",
    "dists = vecThing(an1a, an1b, an2b)\n",
    "\n",
    "dists = pd.Series(dists, index=matrix.index).sort_values()"
   ]
  },
  {
   "cell_type": "code",
   "execution_count": 13,
   "metadata": {},
   "outputs": [
    {
     "name": "stdout",
     "output_type": "stream",
     "text": [
      "32703.32421875 16715.1 52938.0\n"
     ]
    }
   ],
   "source": [
    "print(np.mean(dists),min(dists),max(dists))"
   ]
  },
  {
   "cell_type": "code",
   "execution_count": 15,
   "metadata": {},
   "outputs": [
    {
     "name": "stdout",
     "output_type": "stream",
     "text": [
      "43714.5\n",
      "sky              16715.148438\n",
      "fish             19163.099609\n",
      "han'             28552.816406\n",
      "harvie           28680.380859\n",
      "turbulence       28714.041016\n",
      "newt             28768.861328\n",
      "homesick         28872.566406\n",
      "ominously        28877.675781\n",
      "saleslady        28888.416016\n",
      "refill           28904.388672\n",
      "busts            28912.804688\n",
      "stomachs         28915.093750\n",
      "marmara          28919.759766\n",
      "laminate         28927.222656\n",
      "silhouetted      28929.636719\n",
      "neared           28932.906250\n",
      "satisfies        28946.570312\n",
      "gloriana         28963.707031\n",
      "subtracting      28968.142578\n",
      "109-degrees-f    28989.162109\n",
      "dtype: float32\n"
     ]
    }
   ],
   "source": [
    "print(dists['water'])\n",
    "print(dists[:20])\n"
   ]
  },
  {
   "cell_type": "code",
   "execution_count": null,
   "metadata": {
    "collapsed": true
   },
   "outputs": [],
   "source": []
  }
 ],
 "metadata": {
  "kernelspec": {
   "display_name": "Python 3",
   "language": "python",
   "name": "python3"
  },
  "language_info": {
   "codemirror_mode": {
    "name": "ipython",
    "version": 3
   },
   "file_extension": ".py",
   "mimetype": "text/x-python",
   "name": "python",
   "nbconvert_exporter": "python",
   "pygments_lexer": "ipython3",
   "version": "3.6.1"
  }
 },
 "nbformat": 4,
 "nbformat_minor": 2
}
