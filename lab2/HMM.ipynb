{
 "cells": [
  {
   "cell_type": "code",
   "execution_count": 1,
   "metadata": {},
   "outputs": [],
   "source": [
    "import nltk\n",
    "from nltk import ngrams, word_tokenize, RegexpTokenizer, FreqDist\n",
    "from pprint import pprint\n",
    "import numpy as np\n",
    "import pandas as pd\n"
   ]
  },
  {
   "cell_type": "code",
   "execution_count": 2,
   "metadata": {},
   "outputs": [
    {
     "name": "stdout",
     "output_type": "stream",
     "text": [
      "3\n"
     ]
    }
   ],
   "source": [
    "## books liscensces removed\n",
    "books = [\"SHolmes.txt\",\"Frankenstein.txt\",\"Dracula.txt\"]\n",
    "\n",
    "raws = []\n",
    "for book in books:\n",
    "    f = open(book,\"r\")\n",
    "    raws.append(f.read())\n",
    "    f.close()\n",
    "    \n",
    "raws = [raw.lower() for raw in raws]\n",
    "\n",
    "print(len(raws))\n",
    "\n",
    "tokenizer = RegexpTokenizer(r'[A-Za-z\\']+').tokenize\n",
    "\n",
    "tokensL = [tokenizer(raw) for raw in raws]"
   ]
  },
  {
   "cell_type": "code",
   "execution_count": null,
   "metadata": {
    "collapsed": true
   },
   "outputs": [],
   "source": [
    "n = 3\n",
    "ngs = [ngrams(tokens, n) for tokens in tokensL]\n",
    "# ng_hol = ngrams(t_hol, n)\n",
    "# ng_fra = ngrams(t_fra, n)\n",
    "# ng_dra = ngrams(t_dra, n)\n",
    "\n",
    "# ngs = [ng_hol, ng_fra, ng_dra]"
   ]
  },
  {
   "cell_type": "code",
   "execution_count": 3,
   "metadata": {},
   "outputs": [],
   "source": [
    "lexicon = set().union(*tokensL)\n",
    "lexicon = sorted(lexicon)\n",
    "\n",
    "counts = pd.DataFrame(0, lexicon, lexicon)\n",
    "#pd.DataFrame(0, index=np.arange(1, 4), columns=np.arange(24))"
   ]
  },
  {
   "cell_type": "code",
   "execution_count": null,
   "metadata": {},
   "outputs": [],
   "source": [
    "num_words = len([t for T in tokensL for t in T])\n",
    "num_words"
   ]
  },
  {
   "cell_type": "code",
   "execution_count": null,
   "metadata": {},
   "outputs": [],
   "source": [
    "len(lexicon)"
   ]
  },
  {
   "cell_type": "code",
   "execution_count": null,
   "metadata": {},
   "outputs": [],
   "source": [
    "num_words / len(lexicon)"
   ]
  },
  {
   "cell_type": "code",
   "execution_count": null,
   "metadata": {},
   "outputs": [],
   "source": [
    "counts.loc[\"'a\",\"'a\"] = 1"
   ]
  },
  {
   "cell_type": "code",
   "execution_count": null,
   "metadata": {},
   "outputs": [],
   "source": [
    "counts.loc[\"'a\",\"'a\"]"
   ]
  },
  {
   "cell_type": "code",
   "execution_count": 6,
   "metadata": {},
   "outputs": [],
   "source": [
    "def bigramCounts (tokens, lexicon):\n",
    "    #len_lex = len(lexicon)\n",
    "    counts = pd.DataFrame(0, lexicon, lexicon)\n",
    "    for i in range(len(tokens) - 1):\n",
    "        counts.loc[tokens[i],tokens[i+1]] += 1\n",
    "        \n",
    "    return counts"
   ]
  },
  {
   "cell_type": "code",
   "execution_count": null,
   "metadata": {},
   "outputs": [],
   "source": [
    "counts = bigramCounts(tokensL[0],lexicon)"
   ]
  },
  {
   "cell_type": "code",
   "execution_count": null,
   "metadata": {
    "collapsed": true
   },
   "outputs": [],
   "source": [
    "counts.describe()"
   ]
  },
  {
   "cell_type": "code",
   "execution_count": null,
   "metadata": {
    "collapsed": true
   },
   "outputs": [],
   "source": []
  }
 ],
 "metadata": {
  "kernelspec": {
   "display_name": "Python [default]",
   "language": "python",
   "name": "python3"
  },
  "language_info": {
   "codemirror_mode": {
    "name": "ipython",
    "version": 3
   },
   "file_extension": ".py",
   "mimetype": "text/x-python",
   "name": "python",
   "nbconvert_exporter": "python",
   "pygments_lexer": "ipython3",
   "version": "3.5.3"
  }
 },
 "nbformat": 4,
 "nbformat_minor": 2
}
