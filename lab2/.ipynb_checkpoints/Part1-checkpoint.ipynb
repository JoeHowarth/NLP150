{
 "cells": [
  {
   "cell_type": "code",
   "execution_count": 15,
   "metadata": {
    "collapsed": true
   },
   "outputs": [],
   "source": [
    "import nltk\n",
    "from nltk import ngrams, word_tokenize, RegexpTokenizer, FreqDist\n",
    "\n",
    "## books liscensces removed\n",
    "\n",
    "f = open(\"SHolmes.txt\",\"r\")\n",
    "b_hol = f.read()\n",
    "f.close()\n",
    "f = open(\"Frankenstein.txt\",\"r\")\n",
    "b_fra = f.read()\n",
    "f.close()\n",
    "f = open(\"Dracula.txt\",\"r\")\n",
    "b_dra = f.read()\n",
    "f.close()\n",
    "\n",
    "tokenizer = RegexpTokenizer(r'[A-Za-z\\']+').tokenize\n",
    "#tokenizer = word_tokenize()\n",
    "\n",
    "t_hol = tokenizer(b_hol)\n",
    "t_fra = tokenizer(b_fra)\n",
    "t_dra = tokenizer(b_dra)\n",
    "\n",
    "n = 3\n",
    "ng_hol = ngrams(t_hol, n)\n",
    "ng_fra = ngrams(t_fra, n)\n",
    "ng_dra = ngrams(t_dra, n)\n",
    "\n",
    "ngs = [ng_hol, ng_fra, ng_dra]\n"
   ]
  },
  {
   "cell_type": "code",
   "execution_count": 18,
   "metadata": {},
   "outputs": [],
   "source": [
    "\n",
    "#compute frequency distribution for all the bigrams in the text\n",
    "fdists = [FreqDist(ng) for ng in ngs]\n",
    "\n",
    "\n",
    "common_ngs = []\n",
    "for i in range(3):\n",
    "    #print(fdists[i])\n",
    "    print(len[k for k,v in fdists[i].items() if v>3]))\n",
    "    #common_ngs.append([k for k,v in fdist if v>4])\n",
    "    \n",
    "\n"
   ]
  },
  {
   "cell_type": "code",
   "execution_count": 12,
   "metadata": {
    "collapsed": true
   },
   "outputs": [],
   "source": [
    "for k,v in fdists[0].items():\n",
    "    if( v > 4):\n",
    "        print (k,v)"
   ]
  },
  {
   "cell_type": "code",
   "execution_count": null,
   "metadata": {
    "collapsed": true
   },
   "outputs": [],
   "source": []
  },
  {
   "cell_type": "code",
   "execution_count": null,
   "metadata": {
    "collapsed": true
   },
   "outputs": [],
   "source": []
  }
 ],
 "metadata": {
  "kernelspec": {
   "display_name": "Python [default]",
   "language": "python",
   "name": "python3"
  },
  "language_info": {
   "codemirror_mode": {
    "name": "ipython",
    "version": 3
   },
   "file_extension": ".py",
   "mimetype": "text/x-python",
   "name": "python",
   "nbconvert_exporter": "python",
   "pygments_lexer": "ipython3",
   "version": "3.5.3"
  }
 },
 "nbformat": 4,
 "nbformat_minor": 2
}
