{
 "cells": [
  {
   "cell_type": "code",
   "execution_count": null,
   "metadata": {},
   "outputs": [],
   "source": [
    "import nltk\n",
    "from nltk import ngrams, word_tokenize, RegexpTokenizer, FreqDist\n",
    "from pprint import pprint\n",
    "\n",
    "## books liscensces removed\n",
    "books = [\"SHolmes.txt\",\"Frankenstein.txt\",\"Dracula.txt\"]\n",
    "\n",
    "for book in books:\n",
    "    f = open(book,\"r\")\n",
    "    raws.append(f.read)\n",
    "\n",
    "raws = [open(book,\"r\").read() for book in books]\n",
    "raws = [word.lower() for raw in raws for word in raw]\n",
    "\n",
    "print(len(raws))\n",
    "\n",
    "tokenizer = RegexpTokenizer(r'[A-Za-z\\']+').tokenize\n",
    "#tokenizer = word_tokenize()\n",
    "\n",
    "tokensL = [tokenizer(raw) for raw in raws]\n",
    "# t_hol = tokenizer()\n",
    "# t_fra = tokenizer(b_fra)\n",
    "# t_dra = tokenizer(b_dra)\n",
    "\n",
    "n = 3\n",
    "ngs = [ngrams(tokens, n) for tokens in tokensL]\n",
    "# ng_hol = ngrams(t_hol, n)\n",
    "# ng_fra = ngrams(t_fra, n)\n",
    "# ng_dra = ngrams(t_dra, n)\n",
    "\n",
    "# ngs = [ng_hol, ng_fra, ng_dra]\n"
   ]
  },
  {
   "cell_type": "code",
   "execution_count": null,
   "metadata": {
    "collapsed": true
   },
   "outputs": [],
   "source": [
    "\n",
    "#compute frequency distribution for all the bigrams in the text\n",
    "fdists = [FreqDist(ng) for ng in ngs]\n",
    "\n",
    "\n",
    "b_ngs = []\n",
    "for i in range(3):\n",
    "    #print(fdists[i])\n",
    "    b_ngs.append([k for k,v in fdists[i].items() if v>5])\n",
    "\n",
    "    #common_ngs.append([k for k,v in fdist if v>4])\n",
    "    \n",
    "\n"
   ]
  },
  {
   "cell_type": "code",
   "execution_count": null,
   "metadata": {},
   "outputs": [],
   "source": [
    "print(len(b_ngs[1]))"
   ]
  },
  {
   "cell_type": "code",
   "execution_count": null,
   "metadata": {},
   "outputs": [],
   "source": []
  },
  {
   "cell_type": "code",
   "execution_count": null,
   "metadata": {
    "collapsed": true
   },
   "outputs": [],
   "source": [
    "s01 = set(b_ngs[0]).intersection(b_ngs[1])\n",
    "s02 = set(b_ngs[0]).intersection(b_ngs[2])"
   ]
  },
  {
   "cell_type": "code",
   "execution_count": null,
   "metadata": {
    "collapsed": true
   },
   "outputs": [],
   "source": [
    "print(len(s01), len(s02))\n",
    "pprint(s02)\n"
   ]
  },
  {
   "cell_type": "code",
   "execution_count": null,
   "metadata": {
    "collapsed": true
   },
   "outputs": [],
   "source": []
  },
  {
   "cell_type": "markdown",
   "metadata": {},
   "source": []
  }
 ],
 "metadata": {
  "kernelspec": {
   "display_name": "Python [default]",
   "language": "python",
   "name": "python3"
  },
  "language_info": {
   "codemirror_mode": {
    "name": "ipython",
    "version": 3
   },
   "file_extension": ".py",
   "mimetype": "text/x-python",
   "name": "python",
   "nbconvert_exporter": "python",
   "pygments_lexer": "ipython3",
   "version": "3.5.3"
  }
 },
 "nbformat": 4,
 "nbformat_minor": 2
}
